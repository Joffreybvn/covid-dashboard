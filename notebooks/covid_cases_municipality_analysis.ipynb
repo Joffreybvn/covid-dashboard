{
 "cells": [
  {
   "cell_type": "markdown",
   "metadata": {
    "collapsed": true
   },
   "source": [
    "# Imports"
   ]
  },
  {
   "cell_type": "code",
   "execution_count": 25,
   "metadata": {},
   "outputs": [],
   "source": [
    "import pandas as pd\n",
    "import numpy as np\n",
    "\n",
    "import matplotlib.pyplot as plt\n",
    "import seaborn as sns"
   ]
  },
  {
   "cell_type": "code",
   "execution_count": 6,
   "metadata": {},
   "outputs": [],
   "source": [
    "covid_path = \"../datasets/COVID19BE_CASES_MUNI.csv\"\n",
    "df = pd.read_csv(covid_path)"
   ]
  },
  {
   "cell_type": "code",
   "execution_count": 55,
   "metadata": {},
   "outputs": [],
   "source": [
    "geoloc_path = \"../datasets/postal_code_nis_disctric.csv\"\n",
    "df_geo = pd.read_csv(geoloc_path)"
   ]
  },
  {
   "cell_type": "markdown",
   "metadata": {},
   "source": [
    "# Exploratory data analysis"
   ]
  },
  {
   "cell_type": "code",
   "execution_count": 8,
   "metadata": {},
   "outputs": [
    {
     "data": {
      "text/html": [
       "<div>\n",
       "<style scoped>\n",
       "    .dataframe tbody tr th:only-of-type {\n",
       "        vertical-align: middle;\n",
       "    }\n",
       "\n",
       "    .dataframe tbody tr th {\n",
       "        vertical-align: top;\n",
       "    }\n",
       "\n",
       "    .dataframe thead th {\n",
       "        text-align: right;\n",
       "    }\n",
       "</style>\n",
       "<table border=\"1\" class=\"dataframe\">\n",
       "  <thead>\n",
       "    <tr style=\"text-align: right;\">\n",
       "      <th></th>\n",
       "      <th>NIS5</th>\n",
       "      <th>DATE</th>\n",
       "      <th>TX_DESCR_NL</th>\n",
       "      <th>TX_DESCR_FR</th>\n",
       "      <th>TX_ADM_DSTR_DESCR_NL</th>\n",
       "      <th>TX_ADM_DSTR_DESCR_FR</th>\n",
       "      <th>PROVINCE</th>\n",
       "      <th>REGION</th>\n",
       "      <th>CASES</th>\n",
       "    </tr>\n",
       "  </thead>\n",
       "  <tbody>\n",
       "    <tr>\n",
       "      <th>0</th>\n",
       "      <td>11002.0</td>\n",
       "      <td>2020-03-01</td>\n",
       "      <td>Antwerpen</td>\n",
       "      <td>Anvers</td>\n",
       "      <td>Arrondissement Antwerpen</td>\n",
       "      <td>Arrondissement d’Anvers</td>\n",
       "      <td>Antwerpen</td>\n",
       "      <td>Flanders</td>\n",
       "      <td>&lt;5</td>\n",
       "    </tr>\n",
       "    <tr>\n",
       "      <th>1</th>\n",
       "      <td>21004.0</td>\n",
       "      <td>2020-03-01</td>\n",
       "      <td>Brussel</td>\n",
       "      <td>Bruxelles</td>\n",
       "      <td>Arrondissement Brussel-Hoofdstad</td>\n",
       "      <td>Arrondissement de Bruxelles-Capitale</td>\n",
       "      <td>Brussels</td>\n",
       "      <td>Brussels</td>\n",
       "      <td>&lt;5</td>\n",
       "    </tr>\n",
       "    <tr>\n",
       "      <th>2</th>\n",
       "      <td>21009.0</td>\n",
       "      <td>2020-03-01</td>\n",
       "      <td>Elsene</td>\n",
       "      <td>Ixelles</td>\n",
       "      <td>Arrondissement Brussel-Hoofdstad</td>\n",
       "      <td>Arrondissement de Bruxelles-Capitale</td>\n",
       "      <td>Brussels</td>\n",
       "      <td>Brussels</td>\n",
       "      <td>&lt;5</td>\n",
       "    </tr>\n",
       "    <tr>\n",
       "      <th>3</th>\n",
       "      <td>21014.0</td>\n",
       "      <td>2020-03-01</td>\n",
       "      <td>Sint-Joost-ten-Node</td>\n",
       "      <td>Saint-Josse-ten-Noode</td>\n",
       "      <td>Arrondissement Brussel-Hoofdstad</td>\n",
       "      <td>Arrondissement de Bruxelles-Capitale</td>\n",
       "      <td>Brussels</td>\n",
       "      <td>Brussels</td>\n",
       "      <td>&lt;5</td>\n",
       "    </tr>\n",
       "    <tr>\n",
       "      <th>4</th>\n",
       "      <td>23062.0</td>\n",
       "      <td>2020-03-01</td>\n",
       "      <td>Overijse</td>\n",
       "      <td>Overijse</td>\n",
       "      <td>Arrondissement Halle-Vilvoorde</td>\n",
       "      <td>Arrondissement de Hal-Vilvorde</td>\n",
       "      <td>VlaamsBrabant</td>\n",
       "      <td>Flanders</td>\n",
       "      <td>&lt;5</td>\n",
       "    </tr>\n",
       "  </tbody>\n",
       "</table>\n",
       "</div>"
      ],
      "text/plain": [
       "      NIS5        DATE          TX_DESCR_NL            TX_DESCR_FR  \\\n",
       "0  11002.0  2020-03-01            Antwerpen                 Anvers   \n",
       "1  21004.0  2020-03-01              Brussel              Bruxelles   \n",
       "2  21009.0  2020-03-01               Elsene                Ixelles   \n",
       "3  21014.0  2020-03-01  Sint-Joost-ten-Node  Saint-Josse-ten-Noode   \n",
       "4  23062.0  2020-03-01             Overijse               Overijse   \n",
       "\n",
       "               TX_ADM_DSTR_DESCR_NL                  TX_ADM_DSTR_DESCR_FR  \\\n",
       "0          Arrondissement Antwerpen               Arrondissement d’Anvers   \n",
       "1  Arrondissement Brussel-Hoofdstad  Arrondissement de Bruxelles-Capitale   \n",
       "2  Arrondissement Brussel-Hoofdstad  Arrondissement de Bruxelles-Capitale   \n",
       "3  Arrondissement Brussel-Hoofdstad  Arrondissement de Bruxelles-Capitale   \n",
       "4    Arrondissement Halle-Vilvoorde        Arrondissement de Hal-Vilvorde   \n",
       "\n",
       "        PROVINCE    REGION CASES  \n",
       "0      Antwerpen  Flanders    <5  \n",
       "1       Brussels  Brussels    <5  \n",
       "2       Brussels  Brussels    <5  \n",
       "3       Brussels  Brussels    <5  \n",
       "4  VlaamsBrabant  Flanders    <5  "
      ]
     },
     "execution_count": 8,
     "metadata": {},
     "output_type": "execute_result"
    }
   ],
   "source": [
    "df.head()"
   ]
  },
  {
   "cell_type": "code",
   "execution_count": 21,
   "metadata": {},
   "outputs": [
    {
     "data": {
      "text/plain": [
       "(91831, 5)"
      ]
     },
     "execution_count": 21,
     "metadata": {},
     "output_type": "execute_result"
    }
   ],
   "source": [
    "df.shape"
   ]
  },
  {
   "cell_type": "markdown",
   "metadata": {},
   "source": [
    "### Remove columns"
   ]
  },
  {
   "cell_type": "markdown",
   "metadata": {},
   "source": [
    "We need covid cases per municipality. Many columns on this dataset are useless. Before any further analysis, we will remove them."
   ]
  },
  {
   "cell_type": "code",
   "execution_count": 13,
   "metadata": {},
   "outputs": [
    {
     "data": {
      "text/plain": [
       "Index(['NIS5', 'DATE', 'TX_DESCR_NL', 'TX_DESCR_FR', 'TX_ADM_DSTR_DESCR_NL',\n",
       "       'TX_ADM_DSTR_DESCR_FR', 'PROVINCE', 'REGION', 'CASES'],\n",
       "      dtype='object')"
      ]
     },
     "execution_count": 13,
     "metadata": {},
     "output_type": "execute_result"
    }
   ],
   "source": [
    "df.columns"
   ]
  },
  {
   "cell_type": "code",
   "execution_count": 14,
   "metadata": {},
   "outputs": [],
   "source": [
    "df.drop(columns=['TX_ADM_DSTR_DESCR_NL', 'TX_ADM_DSTR_DESCR_FR', 'PROVINCE', 'REGION'], inplace=True)"
   ]
  },
  {
   "cell_type": "code",
   "execution_count": 15,
   "metadata": {},
   "outputs": [
    {
     "data": {
      "text/html": [
       "<div>\n",
       "<style scoped>\n",
       "    .dataframe tbody tr th:only-of-type {\n",
       "        vertical-align: middle;\n",
       "    }\n",
       "\n",
       "    .dataframe tbody tr th {\n",
       "        vertical-align: top;\n",
       "    }\n",
       "\n",
       "    .dataframe thead th {\n",
       "        text-align: right;\n",
       "    }\n",
       "</style>\n",
       "<table border=\"1\" class=\"dataframe\">\n",
       "  <thead>\n",
       "    <tr style=\"text-align: right;\">\n",
       "      <th></th>\n",
       "      <th>NIS5</th>\n",
       "      <th>DATE</th>\n",
       "      <th>TX_DESCR_NL</th>\n",
       "      <th>TX_DESCR_FR</th>\n",
       "      <th>CASES</th>\n",
       "    </tr>\n",
       "  </thead>\n",
       "  <tbody>\n",
       "    <tr>\n",
       "      <th>0</th>\n",
       "      <td>11002.0</td>\n",
       "      <td>2020-03-01</td>\n",
       "      <td>Antwerpen</td>\n",
       "      <td>Anvers</td>\n",
       "      <td>&lt;5</td>\n",
       "    </tr>\n",
       "    <tr>\n",
       "      <th>1</th>\n",
       "      <td>21004.0</td>\n",
       "      <td>2020-03-01</td>\n",
       "      <td>Brussel</td>\n",
       "      <td>Bruxelles</td>\n",
       "      <td>&lt;5</td>\n",
       "    </tr>\n",
       "    <tr>\n",
       "      <th>2</th>\n",
       "      <td>21009.0</td>\n",
       "      <td>2020-03-01</td>\n",
       "      <td>Elsene</td>\n",
       "      <td>Ixelles</td>\n",
       "      <td>&lt;5</td>\n",
       "    </tr>\n",
       "  </tbody>\n",
       "</table>\n",
       "</div>"
      ],
      "text/plain": [
       "      NIS5        DATE TX_DESCR_NL TX_DESCR_FR CASES\n",
       "0  11002.0  2020-03-01   Antwerpen      Anvers    <5\n",
       "1  21004.0  2020-03-01     Brussel   Bruxelles    <5\n",
       "2  21009.0  2020-03-01      Elsene     Ixelles    <5"
      ]
     },
     "execution_count": 15,
     "metadata": {},
     "output_type": "execute_result"
    }
   ],
   "source": [
    "df.head(3)"
   ]
  },
  {
   "cell_type": "markdown",
   "metadata": {},
   "source": [
    "### Missing values"
   ]
  },
  {
   "cell_type": "markdown",
   "metadata": {},
   "source": [
    "This dataset seems to have some missing values. We will remove them."
   ]
  },
  {
   "cell_type": "code",
   "execution_count": 19,
   "metadata": {},
   "outputs": [
    {
     "name": "stdout",
     "output_type": "stream",
     "text": [
      "<class 'pandas.core.frame.DataFrame'>\n",
      "RangeIndex: 91831 entries, 0 to 91830\n",
      "Data columns (total 5 columns):\n",
      " #   Column       Non-Null Count  Dtype  \n",
      "---  ------       --------------  -----  \n",
      " 0   NIS5         91517 non-null  float64\n",
      " 1   DATE         91767 non-null  object \n",
      " 2   TX_DESCR_NL  91517 non-null  object \n",
      " 3   TX_DESCR_FR  91517 non-null  object \n",
      " 4   CASES        91831 non-null  object \n",
      "dtypes: float64(1), object(4)\n",
      "memory usage: 3.5+ MB\n"
     ]
    }
   ],
   "source": [
    "df.info()"
   ]
  },
  {
   "cell_type": "code",
   "execution_count": 20,
   "metadata": {},
   "outputs": [
    {
     "data": {
      "text/plain": [
       "NIS5           314\n",
       "DATE            64\n",
       "TX_DESCR_NL    314\n",
       "TX_DESCR_FR    314\n",
       "CASES            0\n",
       "dtype: int64"
      ]
     },
     "execution_count": 20,
     "metadata": {},
     "output_type": "execute_result"
    }
   ],
   "source": [
    "df.isna().sum()"
   ]
  },
  {
   "cell_type": "markdown",
   "metadata": {},
   "source": [
    "Drop all \"Na/NA/NaN\""
   ]
  },
  {
   "cell_type": "code",
   "execution_count": 24,
   "metadata": {},
   "outputs": [],
   "source": [
    "df = df.dropna()"
   ]
  },
  {
   "cell_type": "markdown",
   "metadata": {},
   "source": [
    "### Cases"
   ]
  },
  {
   "cell_type": "markdown",
   "metadata": {},
   "source": [
    "Cases has a \"<5\" (less than five) value.\n",
    "\n",
    "As it's not possible in my frametime to re-construct the dataset and get back real numbers, I'll just replace them by 1."
   ]
  },
  {
   "cell_type": "code",
   "execution_count": 29,
   "metadata": {},
   "outputs": [
    {
     "data": {
      "text/plain": [
       "<5     60072\n",
       "5       4799\n",
       "6       3484\n",
       "7       2870\n",
       "8       2341\n",
       "       ...  \n",
       "297        1\n",
       "199        1\n",
       "356        1\n",
       "474        1\n",
       "594        1\n",
       "Name: CASES, Length: 323, dtype: int64"
      ]
     },
     "execution_count": 29,
     "metadata": {},
     "output_type": "execute_result"
    }
   ],
   "source": [
    "df['CASES'].value_counts()"
   ]
  },
  {
   "cell_type": "markdown",
   "metadata": {},
   "source": [
    "Replace \"<5\" by 1 and set this columns as int"
   ]
  },
  {
   "cell_type": "code",
   "execution_count": 32,
   "metadata": {},
   "outputs": [],
   "source": [
    "df['CASES'].replace('<5', 1, inplace=True)"
   ]
  },
  {
   "cell_type": "code",
   "execution_count": 42,
   "metadata": {},
   "outputs": [
    {
     "name": "stderr",
     "output_type": "stream",
     "text": [
      "<ipython-input-42-7f820b2eb13c>:1: SettingWithCopyWarning: \n",
      "A value is trying to be set on a copy of a slice from a DataFrame.\n",
      "Try using .loc[row_indexer,col_indexer] = value instead\n",
      "\n",
      "See the caveats in the documentation: https://pandas.pydata.org/pandas-docs/stable/user_guide/indexing.html#returning-a-view-versus-a-copy\n",
      "  df['CASES'] = df['CASES'].astype(int)\n"
     ]
    }
   ],
   "source": [
    "df['CASES'] = df['CASES'].astype(int)"
   ]
  },
  {
   "cell_type": "code",
   "execution_count": 41,
   "metadata": {},
   "outputs": [
    {
     "data": {
      "text/plain": [
       "dtype('int64')"
      ]
     },
     "execution_count": 41,
     "metadata": {},
     "output_type": "execute_result"
    }
   ],
   "source": [
    "df['CASES'].dtype"
   ]
  },
  {
   "cell_type": "markdown",
   "metadata": {},
   "source": [
    "### Date"
   ]
  },
  {
   "cell_type": "markdown",
   "metadata": {},
   "source": [
    "Later we'll get data by week. We need our 'Date' columns to becode a pandas datetime:"
   ]
  },
  {
   "cell_type": "code",
   "execution_count": 43,
   "metadata": {},
   "outputs": [
    {
     "name": "stderr",
     "output_type": "stream",
     "text": [
      "<ipython-input-43-755015090936>:1: SettingWithCopyWarning: \n",
      "A value is trying to be set on a copy of a slice from a DataFrame.\n",
      "Try using .loc[row_indexer,col_indexer] = value instead\n",
      "\n",
      "See the caveats in the documentation: https://pandas.pydata.org/pandas-docs/stable/user_guide/indexing.html#returning-a-view-versus-a-copy\n",
      "  df['DATE'] = pd.to_datetime(df['DATE'])\n"
     ]
    }
   ],
   "source": [
    "df['DATE'] = pd.to_datetime(df['DATE'])"
   ]
  },
  {
   "cell_type": "code",
   "execution_count": 44,
   "metadata": {},
   "outputs": [
    {
     "name": "stdout",
     "output_type": "stream",
     "text": [
      "<class 'pandas.core.frame.DataFrame'>\n",
      "Int64Index: 91454 entries, 0 to 91765\n",
      "Data columns (total 5 columns):\n",
      " #   Column       Non-Null Count  Dtype         \n",
      "---  ------       --------------  -----         \n",
      " 0   NIS5         91454 non-null  float64       \n",
      " 1   DATE         91454 non-null  datetime64[ns]\n",
      " 2   TX_DESCR_NL  91454 non-null  object        \n",
      " 3   TX_DESCR_FR  91454 non-null  object        \n",
      " 4   CASES        91454 non-null  int64         \n",
      "dtypes: datetime64[ns](1), float64(1), int64(1), object(2)\n",
      "memory usage: 4.2+ MB\n"
     ]
    }
   ],
   "source": [
    "df.info()"
   ]
  },
  {
   "cell_type": "markdown",
   "metadata": {},
   "source": [
    "### NIS5"
   ]
  },
  {
   "cell_type": "markdown",
   "metadata": {},
   "source": [
    "The \"NIS5\" or \"INS code\" is an unique identifier for each belgian municipality. It is useful to merge this dataset with localisation dataset."
   ]
  },
  {
   "cell_type": "code",
   "execution_count": 45,
   "metadata": {},
   "outputs": [
    {
     "name": "stderr",
     "output_type": "stream",
     "text": [
      "<ipython-input-45-a165034c2693>:1: SettingWithCopyWarning: \n",
      "A value is trying to be set on a copy of a slice from a DataFrame.\n",
      "Try using .loc[row_indexer,col_indexer] = value instead\n",
      "\n",
      "See the caveats in the documentation: https://pandas.pydata.org/pandas-docs/stable/user_guide/indexing.html#returning-a-view-versus-a-copy\n",
      "  df['NIS5'] = df['NIS5'].astype(int)\n"
     ]
    }
   ],
   "source": [
    "df['NIS5'] = df['NIS5'].astype(int)"
   ]
  },
  {
   "cell_type": "code",
   "execution_count": 46,
   "metadata": {},
   "outputs": [
    {
     "name": "stdout",
     "output_type": "stream",
     "text": [
      "<class 'pandas.core.frame.DataFrame'>\n",
      "Int64Index: 91454 entries, 0 to 91765\n",
      "Data columns (total 5 columns):\n",
      " #   Column       Non-Null Count  Dtype         \n",
      "---  ------       --------------  -----         \n",
      " 0   NIS5         91454 non-null  int64         \n",
      " 1   DATE         91454 non-null  datetime64[ns]\n",
      " 2   TX_DESCR_NL  91454 non-null  object        \n",
      " 3   TX_DESCR_FR  91454 non-null  object        \n",
      " 4   CASES        91454 non-null  int64         \n",
      "dtypes: datetime64[ns](1), int64(2), object(2)\n",
      "memory usage: 4.2+ MB\n"
     ]
    }
   ],
   "source": [
    "df.info()"
   ]
  },
  {
   "cell_type": "markdown",
   "metadata": {},
   "source": [
    "# Dataset transformation"
   ]
  },
  {
   "cell_type": "markdown",
   "metadata": {},
   "source": [
    "To comply with the streamlit app, the data need to be transformed as the following:\n",
    "\n",
    " - Represent cases by weeks\n",
    " - Have geolocation data\n",
    " - Be reshaped as one dataframe per week, containing as many entries/location as cases/location."
   ]
  },
  {
   "cell_type": "markdown",
   "metadata": {},
   "source": [
    "### Group by week"
   ]
  },
  {
   "cell_type": "markdown",
   "metadata": {},
   "source": [
    "We substract one week (7 days), as we want to sum for the week ahead of the date, not the week before that date"
   ]
  },
  {
   "cell_type": "code",
   "execution_count": 47,
   "metadata": {},
   "outputs": [
    {
     "name": "stderr",
     "output_type": "stream",
     "text": [
      "<ipython-input-47-6b47a9eb87ea>:1: SettingWithCopyWarning: \n",
      "A value is trying to be set on a copy of a slice from a DataFrame.\n",
      "Try using .loc[row_indexer,col_indexer] = value instead\n",
      "\n",
      "See the caveats in the documentation: https://pandas.pydata.org/pandas-docs/stable/user_guide/indexing.html#returning-a-view-versus-a-copy\n",
      "  df['week_date'] = df['DATE'] - pd.to_timedelta(7, unit='d')\n"
     ]
    }
   ],
   "source": [
    "df['week_date'] = df['DATE'] - pd.to_timedelta(7, unit='d')"
   ]
  },
  {
   "cell_type": "code",
   "execution_count": 51,
   "metadata": {},
   "outputs": [],
   "source": [
    "df = df.groupby(['NIS5', pd.Grouper(key='DATE', freq='W-MON')])['CASES'].sum().reset_index().sort_values('DATE')"
   ]
  },
  {
   "cell_type": "code",
   "execution_count": 53,
   "metadata": {},
   "outputs": [
    {
     "data": {
      "text/plain": [
       "(21702, 3)"
      ]
     },
     "execution_count": 53,
     "metadata": {},
     "output_type": "execute_result"
    }
   ],
   "source": [
    "df.shape"
   ]
  },
  {
   "cell_type": "code",
   "execution_count": 54,
   "metadata": {},
   "outputs": [
    {
     "data": {
      "text/html": [
       "<div>\n",
       "<style scoped>\n",
       "    .dataframe tbody tr th:only-of-type {\n",
       "        vertical-align: middle;\n",
       "    }\n",
       "\n",
       "    .dataframe tbody tr th {\n",
       "        vertical-align: top;\n",
       "    }\n",
       "\n",
       "    .dataframe thead th {\n",
       "        text-align: right;\n",
       "    }\n",
       "</style>\n",
       "<table border=\"1\" class=\"dataframe\">\n",
       "  <thead>\n",
       "    <tr style=\"text-align: right;\">\n",
       "      <th></th>\n",
       "      <th>NIS5</th>\n",
       "      <th>DATE</th>\n",
       "      <th>CASES</th>\n",
       "    </tr>\n",
       "  </thead>\n",
       "  <tbody>\n",
       "    <tr>\n",
       "      <th>8695</th>\n",
       "      <td>35013</td>\n",
       "      <td>2020-03-02</td>\n",
       "      <td>1</td>\n",
       "    </tr>\n",
       "    <tr>\n",
       "      <th>9938</th>\n",
       "      <td>41063</td>\n",
       "      <td>2020-03-02</td>\n",
       "      <td>1</td>\n",
       "    </tr>\n",
       "    <tr>\n",
       "      <th>2937</th>\n",
       "      <td>21004</td>\n",
       "      <td>2020-03-02</td>\n",
       "      <td>1</td>\n",
       "    </tr>\n",
       "    <tr>\n",
       "      <th>3638</th>\n",
       "      <td>21019</td>\n",
       "      <td>2020-03-02</td>\n",
       "      <td>1</td>\n",
       "    </tr>\n",
       "    <tr>\n",
       "      <th>4393</th>\n",
       "      <td>23062</td>\n",
       "      <td>2020-03-02</td>\n",
       "      <td>1</td>\n",
       "    </tr>\n",
       "  </tbody>\n",
       "</table>\n",
       "</div>"
      ],
      "text/plain": [
       "       NIS5       DATE  CASES\n",
       "8695  35013 2020-03-02      1\n",
       "9938  41063 2020-03-02      1\n",
       "2937  21004 2020-03-02      1\n",
       "3638  21019 2020-03-02      1\n",
       "4393  23062 2020-03-02      1"
      ]
     },
     "execution_count": 54,
     "metadata": {},
     "output_type": "execute_result"
    }
   ],
   "source": [
    "df.head()"
   ]
  },
  {
   "cell_type": "markdown",
   "metadata": {},
   "source": [
    "### Merge with geolocation"
   ]
  },
  {
   "cell_type": "code",
   "execution_count": null,
   "metadata": {},
   "outputs": [],
   "source": []
  }
 ],
 "metadata": {
  "kernelspec": {
   "display_name": "Python 3",
   "language": "python",
   "name": "python3"
  },
  "language_info": {
   "codemirror_mode": {
    "name": "ipython",
    "version": 3
   },
   "file_extension": ".py",
   "mimetype": "text/x-python",
   "name": "python",
   "nbconvert_exporter": "python",
   "pygments_lexer": "ipython3",
   "version": "3.8.7"
  }
 },
 "nbformat": 4,
 "nbformat_minor": 1
}